{
 "cells": [
  {
   "cell_type": "code",
   "execution_count": null,
   "metadata": {},
   "outputs": [
    {
     "name": "stdout",
     "output_type": "stream",
     "text": [
      "1\n",
      "星期\n",
      "节次 星期一 星期二 星期三 星期四 星期五\n",
      "上午 第一节 语文 语文 数学 语文 数学\n",
      "第二节 数学 语文 语文 数学 语文\n",
      "第三节 道法 音乐 英语 体能/心理 音乐\n",
      "第四节 体育 美术 体育 美术 英语\n",
      "下午 第五节 科学 体育 道法 IT 体育\n",
      "第六节 劳动 综实 科学 书法 班队会\n",
      "第七节 合唱 合唱\n",
      "星期\n",
      "节次 星期一 星期二 星期三 星期四 星期五\n",
      "上午 第一节 语文 语文 数学 语文 数学\n",
      "第二节 数学 语文 语文 数学 语文\n",
      "第三节 道法 音乐 英语 体能/心理 音乐\n",
      "第四节 体育 美术 体育 美术 英语\n",
      "下午 第五节 科学 体育 道法 IT 体育\n",
      "第六节 劳动 综实 科学 书法 班队会\n",
      "第七节 合唱 合唱\n"
     ]
    }
   ],
   "source": [
    "from qdrant_client import QdrantClient\n",
    "import numpy as np\n",
    "\n",
    "# Initialize the client\n",
    "client = QdrantClient(host=\"localhost\", port=6333)\n",
    "\n",
    "# Specify the collection name\n",
    "collection_name = \"thai-recipe-index\"\n",
    "\n",
    "# Define your query vector\n",
    "query_vector = np.random.rand(384).tolist()  # Replace with your actual query vector\n",
    "\n",
    "try:\n",
    "    # Perform a similarity search using query_points\n",
    "    response = client.query_points(\n",
    "        collection_name=collection_name,\n",
    "        query_filter=None,  # You can add filters if needed\n",
    "        limit=1000,  # Number of results to retrieve\n",
    "        with_payload=True,\n",
    "    ).points\n",
    "    print(len(response))\n",
    "    for hit in response:\n",
    "        print(hit.payload[\"content\"])\n",
    "    # similar_points = [hit.payload for hit in response]\n",
    "except Exception as e:\n",
    "    print(\"An error occurred while querying the collection:\", e)"
   ]
  }
 ],
 "metadata": {
  "kernelspec": {
   "display_name": ".venv",
   "language": "python",
   "name": "python3"
  },
  "language_info": {
   "codemirror_mode": {
    "name": "ipython",
    "version": 3
   },
   "file_extension": ".py",
   "mimetype": "text/x-python",
   "name": "python",
   "nbconvert_exporter": "python",
   "pygments_lexer": "ipython3",
   "version": "3.11.11"
  }
 },
 "nbformat": 4,
 "nbformat_minor": 2
}
