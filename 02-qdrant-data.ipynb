{
 "cells": [
  {
   "cell_type": "code",
   "execution_count": null,
   "metadata": {},
   "outputs": [],
   "source": [
    "from qdrant_client import QdrantClient\n",
    "import numpy as np\n",
    "\n",
    "# Initialize the client\n",
    "client = QdrantClient(host=\"localhost\", port=6333)\n",
    "\n",
    "# Specify the collection name\n",
    "collection_name = \"thai-recipe-index\"\n",
    "\n",
    "# Define your query vector\n",
    "query_vector = np.random.rand(384).tolist()  # Replace with your actual query vector\n",
    "\n",
    "try:\n",
    "    # Perform a similarity search using query_points\n",
    "    response = client.query_points(\n",
    "        collection_name=collection_name,\n",
    "        query_filter=None,  # You can add filters if needed\n",
    "        limit=1000,  # Number of results to retrieve\n",
    "        with_payload=True,\n",
    "    ).points\n",
    "    print(len(response))\n",
    "    for hit in response:\n",
    "        print(hit.payload[\"content\"])\n",
    "    # similar_points = [hit.payload for hit in response]\n",
    "except Exception as e:\n",
    "    print(\"An error occurred while querying the collection:\", e)"
   ]
  }
 ],
 "metadata": {
  "kernelspec": {
   "display_name": ".venv",
   "language": "python",
   "name": "python3"
  },
  "language_info": {
   "codemirror_mode": {
    "name": "ipython",
    "version": 3
   },
   "file_extension": ".py",
   "mimetype": "text/x-python",
   "name": "python",
   "nbconvert_exporter": "python",
   "pygments_lexer": "ipython3",
   "version": "3.11.11"
  }
 },
 "nbformat": 4,
 "nbformat_minor": 2
}
